{
 "cells": [
  {
   "cell_type": "code",
   "execution_count": null,
   "id": "4a66c0ad",
   "metadata": {},
   "outputs": [],
   "source": [
    "import pandas as pd\n",
    "import numpy as np\n",
    "import matplotlib.pyplot as plt\n",
    "import talib"
   ]
  },
  {
   "cell_type": "code",
   "execution_count": 11,
   "id": "abb282bc",
   "metadata": {},
   "outputs": [],
   "source": [
    "def download_stock_data(my_ticker, my_period, group_by='column'):\n",
    "    stock_data = yf.download(my_ticker, \n",
    "                         period = my_period, \n",
    "                         group_by = 'column')\n",
    "    print(\"Raw Data:\")\n",
    "    print(stock_data.head())\n",
    "\n",
    "    stock_data.columns = stock_data.columns.get_level_values(0)\n",
    "    print(\"Info:\")\n",
    "    print(stock_data.head())\n",
    "\n",
    "    stock_data.to_csv(f\"data/{my_ticker}_data_{my_period}.csv\")\n",
    "\n",
    "    return "
   ]
  },
  {
   "cell_type": "code",
   "execution_count": 19,
   "id": "98334429",
   "metadata": {},
   "outputs": [],
   "source": [
    "from backtesting import Backtest, Strategy\n",
    "from backtesting.test import GOOG\n",
    "from backtesting.lib import crossover "
   ]
  },
  {
   "cell_type": "code",
   "execution_count": 16,
   "id": "cc6fe6be",
   "metadata": {},
   "outputs": [
    {
     "data": {
      "text/plain": [
       "<bound method NDFrame.describe of               Open    High     Low   Close    Volume\n",
       "2004-08-19  100.00  104.06   95.96  100.34  22351900\n",
       "2004-08-20  101.01  109.08  100.50  108.31  11428600\n",
       "2004-08-23  110.75  113.48  109.05  109.40   9137200\n",
       "2004-08-24  111.24  111.60  103.57  104.87   7631300\n",
       "2004-08-25  104.96  108.00  103.88  106.00   4598900\n",
       "...            ...     ...     ...     ...       ...\n",
       "2013-02-25  802.30  808.41  790.49  790.77   2303900\n",
       "2013-02-26  795.00  795.95  784.40  790.13   2202500\n",
       "2013-02-27  794.80  804.75  791.11  799.78   2026100\n",
       "2013-02-28  801.10  806.99  801.03  801.20   2265800\n",
       "2013-03-01  797.80  807.14  796.15  806.19   2175400\n",
       "\n",
       "[2148 rows x 5 columns]>"
      ]
     },
     "execution_count": 16,
     "metadata": {},
     "output_type": "execute_result"
    }
   ],
   "source": [
    "GOOG.describe"
   ]
  },
  {
   "cell_type": "code",
   "execution_count": null,
   "id": "ef30416c",
   "metadata": {},
   "outputs": [],
   "source": [
    "class RsiOscillator(Strategy):\n",
    "\n",
    "    upper_bound = 70\n",
    "    lower_bound = 30\n",
    "\n",
    "    def init(self):\n",
    "        self.rsi = self.I(talib.RSI, \n",
    "                          self.data.Close, \n",
    "                          14)\n",
    "\n",
    "    def next(self):\n",
    "        if crossover(self.rsi, self.upper_bound):\n",
    "            self.position.close()\n",
    "\n",
    "        elif crossover(self.lower_bound, self.rsi):\n",
    "            self.buy()\n"
   ]
  },
  {
   "cell_type": "markdown",
   "id": "52d45699",
   "metadata": {},
   "source": []
  }
 ],
 "metadata": {
  "kernelspec": {
   "display_name": "finance",
   "language": "python",
   "name": "python3"
  },
  "language_info": {
   "codemirror_mode": {
    "name": "ipython",
    "version": 3
   },
   "file_extension": ".py",
   "mimetype": "text/x-python",
   "name": "python",
   "nbconvert_exporter": "python",
   "pygments_lexer": "ipython3",
   "version": "3.11.12"
  }
 },
 "nbformat": 4,
 "nbformat_minor": 5
}
